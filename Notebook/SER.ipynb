{
 "cells": [
  {
   "cell_type": "code",
   "execution_count": 1,
   "id": "horizontal-thomas",
   "metadata": {},
   "outputs": [],
   "source": [
    "import librosa\n",
    "from librosa import display\n",
    "\n",
    "data, sampling_rate = librosa.load('E:/Mini project/Dataset/new/Audio_Song_Actors_01-24/Actor_04/03-02-06-02-02-02-04.wav')"
   ]
  },
  {
   "cell_type": "code",
   "execution_count": 2,
   "id": "positive-folder",
   "metadata": {},
   "outputs": [
    {
     "name": "stdout",
     "output_type": "stream",
     "text": [
      "Populating the interactive namespace from numpy and matplotlib\n"
     ]
    },
    {
     "name": "stderr",
     "output_type": "stream",
     "text": [
      "C:\\Users\\acer\\AppData\\Local\\Programs\\Python\\Python36\\lib\\site-packages\\IPython\\core\\magics\\pylab.py:160: UserWarning: pylab import has clobbered these variables: ['record', 'display']\n",
      "`%matplotlib` prevents importing * from pylab and numpy\n",
      "  \"\\n`%matplotlib` prevents importing * from pylab and numpy\"\n"
     ]
    },
    {
     "data": {
      "text/plain": [
       "<matplotlib.collections.PolyCollection at 0x2b226978898>"
      ]
     },
     "execution_count": 2,
     "metadata": {},
     "output_type": "execute_result"
    },
    {
     "data": {
      "image/png": "[encoded data removed]",
      "text/plain": [
       "<Figure size 864x288 with 1 Axes>"
      ]
     },
     "metadata": {
      "needs_background": "light"
     },
     "output_type": "display_data"
    }
   ],
   "source": [
    "%pylab inline\n",
    "import matplotlib.pyplot as plt\n",
    "\n",
    "plt.figure(figsize=(12, 4))\n",
    "librosa.display.waveplot(data, sr=sampling_rate)"
   ]
  },
  {
   "cell_type": "code",
   "execution_count": 4,
   "id": "spectacular-liquid",
   "metadata": {},
   "outputs": [
    {
     "name": "stdout",
     "output_type": "stream",
     "text": [
      "--- Data loaded. Loading time: 1287.771162033081 seconds ---\n"
     ]
    }
   ],
   "source": [
    "import time\n",
    "import os\n",
    "path = 'E:/Mini project/Dataset/new/Audio_Song_Actors_01-24/'\n",
    "lst = []\n",
    "\n",
    "start_time = time.time()\n",
    "\n",
    "for subdir, dirs, files in os.walk(path):\n",
    "  for file in files:\n",
    "      try:\n",
    "        #Load librosa array, obtain mfcss, store the file and the mcss information in a new array\n",
    "        X, sample_rate = librosa.load(os.path.join(subdir,file), res_type='kaiser_fast')\n",
    "        mfccs = np.mean(librosa.feature.mfcc(y=X, sr=sample_rate, n_mfcc=40).T,axis=0) \n",
    "        # The instruction below converts the labels (from 1 to 8) to a series from 0 to 7\n",
    "        # This is because our predictor needs to start from 0 otherwise it will try to predict also 0.\n",
    "        file = int(file[7:8]) - 1 \n",
    "        arr = mfccs, file\n",
    "        lst.append(arr)\n",
    "      # If the file is not valid, skip it\n",
    "      except ValueError:\n",
    "        continue\n",
    "\n",
    "print(\"--- Data loaded. Loading time: %s seconds ---\" % (time.time() - start_time))"
   ]
  },
  {
   "cell_type": "code",
   "execution_count": 5,
   "id": "congressional-employer",
   "metadata": {},
   "outputs": [],
   "source": [
    "# Creating X and y: zip makes a list of all the first elements, and a list of all the second elements.\n",
    "X, y = zip(*lst)"
   ]
  },
  {
   "cell_type": "code",
   "execution_count": 6,
   "id": "compound-harassment",
   "metadata": {},
   "outputs": [
    {
     "data": {
      "text/plain": [
       "((5252, 40), (5252,))"
      ]
     },
     "execution_count": 6,
     "metadata": {},
     "output_type": "execute_result"
    }
   ],
   "source": [
    "import numpy as np\n",
    "X = np.asarray(X)\n",
    "y = np.asarray(y)\n",
    "\n",
    "\n",
    "X.shape, y.shape"
   ]
  },
  {
   "cell_type": "code",
   "execution_count": 7,
   "id": "sweet-infrastructure",
   "metadata": {},
   "outputs": [],
   "source": [
    "import joblib\n",
    "# Saving joblib files to not load them again with the loop above\n",
    "\n",
    "X_name = 'X.joblib'\n",
    "y_name = 'y.joblib'\n",
    "save_dir = 'E:\\Mini project\\senior project\\Speech-Emotion-Recognition-using-ML-and-DL-master\\dataset_features1'\n",
    "\n",
    "savedX = joblib.dump(X, os.path.join(save_dir, X_name))\n",
    "savedy = joblib.dump(y, os.path.join(save_dir, y_name))"
   ]
  },
  {
   "cell_type": "code",
   "execution_count": 8,
   "id": "international-bachelor",
   "metadata": {},
   "outputs": [],
   "source": [
    "# Loading saved models\n",
    "import joblib\n",
    "X = joblib.load('E:\\Mini project\\senior project\\Speech-Emotion-Recognition-using-ML-and-DL-master\\dataset_features1\\X.joblib')\n",
    "y = joblib.load('E:\\Mini project\\senior project\\Speech-Emotion-Recognition-using-ML-and-DL-master\\dataset_features1\\y.joblib')"
   ]
  },
  {
   "cell_type": "code",
   "execution_count": 9,
   "id": "proof-wilson",
   "metadata": {},
   "outputs": [],
   "source": [
    "from sklearn.model_selection import train_test_split\n",
    "\n",
    "X_train, X_test, y_train, y_test = train_test_split(X,y, test_size=0.33, random_state=42)"
   ]
  },
  {
   "cell_type": "code",
   "execution_count": 10,
   "id": "neural-reproduction",
   "metadata": {},
   "outputs": [],
   "source": [
    "from sklearn.tree import DecisionTreeClassifier"
   ]
  },
  {
   "cell_type": "code",
   "execution_count": 11,
   "id": "inappropriate-tactics",
   "metadata": {},
   "outputs": [],
   "source": [
    "dtree = DecisionTreeClassifier()"
   ]
  },
  {
   "cell_type": "code",
   "execution_count": 12,
   "id": "banned-cuisine",
   "metadata": {},
   "outputs": [
    {
     "data": {
      "text/plain": [
       "DecisionTreeClassifier(ccp_alpha=0.0, class_weight=None, criterion='gini',\n",
       "                       max_depth=None, max_features=None, max_leaf_nodes=None,\n",
       "                       min_impurity_decrease=0.0, min_impurity_split=None,\n",
       "                       min_samples_leaf=1, min_samples_split=2,\n",
       "                       min_weight_fraction_leaf=0.0, presort='deprecated',\n",
       "                       random_state=None, splitter='best')"
      ]
     },
     "execution_count": 12,
     "metadata": {},
     "output_type": "execute_result"
    }
   ],
   "source": [
    "dtree.fit(X_train, y_train)"
   ]
  },
  {
   "cell_type": "code",
   "execution_count": 13,
   "id": "weighted-pharmacology",
   "metadata": {},
   "outputs": [],
   "source": [
    "predictions = dtree.predict(X_test)"
   ]
  },
  {
   "cell_type": "code",
   "execution_count": 14,
   "id": "asian-information",
   "metadata": {},
   "outputs": [
    {
     "name": "stdout",
     "output_type": "stream",
     "text": [
      "              precision    recall  f1-score   support\n",
      "\n",
      "           0       0.79      0.79      0.79       192\n",
      "           1       0.59      0.58      0.58       123\n",
      "           2       0.61      0.60      0.61       264\n",
      "           3       0.70      0.67      0.69       275\n",
      "           4       0.72      0.66      0.69       252\n",
      "           5       0.63      0.69      0.66       241\n",
      "           6       0.67      0.70      0.69       197\n",
      "           7       0.59      0.61      0.60       190\n",
      "\n",
      "    accuracy                           0.66      1734\n",
      "   macro avg       0.66      0.66      0.66      1734\n",
      "weighted avg       0.67      0.66      0.66      1734\n",
      "\n"
     ]
    }
   ],
   "source": [
    "from sklearn.metrics import classification_report,confusion_matrix\n",
    "print(classification_report(y_test,predictions))"
   ]
  },
  {
   "cell_type": "code",
   "execution_count": 15,
   "id": "associate-conversion",
   "metadata": {},
   "outputs": [],
   "source": [
    "import numpy as np\n",
    "x_traincnn = np.expand_dims(X_train, axis=2)\n",
    "x_testcnn = np.expand_dims(X_test, axis=2)"
   ]
  },
  {
   "cell_type": "code",
   "execution_count": 16,
   "id": "textile-architect",
   "metadata": {},
   "outputs": [
    {
     "data": {
      "text/plain": [
       "((3518, 40, 1), (1734, 40, 1))"
      ]
     },
     "execution_count": 16,
     "metadata": {},
     "output_type": "execute_result"
    }
   ],
   "source": [
    "x_traincnn.shape, x_testcnn.shape"
   ]
  },
  {
   "cell_type": "code",
   "execution_count": 17,
   "id": "senior-laptop",
   "metadata": {},
   "outputs": [
    {
     "name": "stderr",
     "output_type": "stream",
     "text": [
      "C:\\Users\\acer\\AppData\\Local\\Programs\\Python\\Python36\\lib\\site-packages\\tensorboard\\compat\\tensorflow_stub\\dtypes.py:541: FutureWarning: Passing (type, 1) or '1type' as a synonym of type is deprecated; in a future version of numpy, it will be understood as (type, (1,)) / '(1,)type'.\n",
      "  _np_qint8 = np.dtype([(\"qint8\", np.int8, 1)])\n",
      "C:\\Users\\acer\\AppData\\Local\\Programs\\Python\\Python36\\lib\\site-packages\\tensorboard\\compat\\tensorflow_stub\\dtypes.py:542: FutureWarning: Passing (type, 1) or '1type' as a synonym of type is deprecated; in a future version of numpy, it will be understood as (type, (1,)) / '(1,)type'.\n",
      "  _np_quint8 = np.dtype([(\"quint8\", np.uint8, 1)])\n",
      "C:\\Users\\acer\\AppData\\Local\\Programs\\Python\\Python36\\lib\\site-packages\\tensorboard\\compat\\tensorflow_stub\\dtypes.py:543: FutureWarning: Passing (type, 1) or '1type' as a synonym of type is deprecated; in a future version of numpy, it will be understood as (type, (1,)) / '(1,)type'.\n",
      "  _np_qint16 = np.dtype([(\"qint16\", np.int16, 1)])\n",
      "C:\\Users\\acer\\AppData\\Local\\Programs\\Python\\Python36\\lib\\site-packages\\tensorboard\\compat\\tensorflow_stub\\dtypes.py:544: FutureWarning: Passing (type, 1) or '1type' as a synonym of type is deprecated; in a future version of numpy, it will be understood as (type, (1,)) / '(1,)type'.\n",
      "  _np_quint16 = np.dtype([(\"quint16\", np.uint16, 1)])\n",
      "C:\\Users\\acer\\AppData\\Local\\Programs\\Python\\Python36\\lib\\site-packages\\tensorboard\\compat\\tensorflow_stub\\dtypes.py:545: FutureWarning: Passing (type, 1) or '1type' as a synonym of type is deprecated; in a future version of numpy, it will be understood as (type, (1,)) / '(1,)type'.\n",
      "  _np_qint32 = np.dtype([(\"qint32\", np.int32, 1)])\n",
      "C:\\Users\\acer\\AppData\\Local\\Programs\\Python\\Python36\\lib\\site-packages\\tensorboard\\compat\\tensorflow_stub\\dtypes.py:550: FutureWarning: Passing (type, 1) or '1type' as a synonym of type is deprecated; in a future version of numpy, it will be understood as (type, (1,)) / '(1,)type'.\n",
      "  np_resource = np.dtype([(\"resource\", np.ubyte, 1)])\n"
     ]
    }
   ],
   "source": [
    "import keras\n",
    "import numpy as np\n",
    "import matplotlib.pyplot as plt\n",
    "import tensorflow as tf\n",
    "from keras.preprocessing import sequence\n",
    "from keras.models import Sequential\n",
    "from keras.layers import Dense, Embedding\n",
    "from keras.utils import to_categorical\n",
    "from keras.layers import Input, Flatten, Dropout, Activation\n",
    "from keras.layers import Conv1D, MaxPooling1D\n",
    "from keras.models import Model\n",
    "from keras.callbacks import ModelCheckpoint\n",
    "\n",
    "model = Sequential()\n",
    "\n",
    "model.add(Conv1D(64, 5,padding='same',\n",
    "                 input_shape=(40,1)))\n",
    "model.add(Activation('relu'))\n",
    "model.add(Dropout(0.1))\n",
    "model.add(MaxPooling1D(pool_size=(4)))\n",
    "model.add(Conv1D(128, 5,padding='same',))\n",
    "model.add(Activation('relu'))\n",
    "model.add(Dropout(0.1))\n",
    "model.add(MaxPooling1D(pool_size=(4)))\n",
    "model.add(Conv1D(256, 5,padding='same',))\n",
    "model.add(Activation('relu'))\n",
    "model.add(Dropout(0.1))\n",
    "model.add(Flatten())\n",
    "model.add(Dense(8))\n",
    "model.add(Activation('softmax'))\n",
    "opt = keras.optimizers.RMSprop(lr=0.00005, rho=0.9, epsilon=1e-07, decay=0.0)"
   ]
  },
  {
   "cell_type": "code",
   "execution_count": 18,
   "id": "powerful-glance",
   "metadata": {},
   "outputs": [
    {
     "name": "stdout",
     "output_type": "stream",
     "text": [
      "Model: \"sequential\"\n",
      "_________________________________________________________________\n",
      "Layer (type)                 Output Shape              Param #   \n",
      "=================================================================\n",
      "conv1d (Conv1D)              (None, 40, 64)            384       \n",
      "_________________________________________________________________\n",
      "activation (Activation)      (None, 40, 64)            0         \n",
      "_________________________________________________________________\n",
      "dropout (Dropout)            (None, 40, 64)            0         \n",
      "_________________________________________________________________\n",
      "max_pooling1d (MaxPooling1D) (None, 10, 64)            0         \n",
      "_________________________________________________________________\n",
      "conv1d_1 (Conv1D)            (None, 10, 128)           41088     \n",
      "_________________________________________________________________\n",
      "activation_1 (Activation)    (None, 10, 128)           0         \n",
      "_________________________________________________________________\n",
      "dropout_1 (Dropout)          (None, 10, 128)           0         \n",
      "_________________________________________________________________\n",
      "max_pooling1d_1 (MaxPooling1 (None, 2, 128)            0         \n",
      "_________________________________________________________________\n",
      "conv1d_2 (Conv1D)            (None, 2, 256)            164096    \n",
      "_________________________________________________________________\n",
      "activation_2 (Activation)    (None, 2, 256)            0         \n",
      "_________________________________________________________________\n",
      "dropout_2 (Dropout)          (None, 2, 256)            0         \n",
      "_________________________________________________________________\n",
      "flatten (Flatten)            (None, 512)               0         \n",
      "_________________________________________________________________\n",
      "dense (Dense)                (None, 8)                 4104      \n",
      "_________________________________________________________________\n",
      "activation_3 (Activation)    (None, 8)                 0         \n",
      "=================================================================\n",
      "Total params: 209,672\n",
      "Trainable params: 209,672\n",
      "Non-trainable params: 0\n",
      "_________________________________________________________________\n"
     ]
    }
   ],
   "source": [
    "model.summary()"
   ]
  },
  {
   "cell_type": "code",
   "execution_count": 19,
   "id": "mexican-myanmar",
   "metadata": {},
   "outputs": [],
   "source": [
    "model.compile(loss='sparse_categorical_crossentropy',\n",
    "              optimizer=opt,\n",
    "              metrics=['accuracy'])"
   ]
  },
  {
   "cell_type": "code",
   "execution_count": 20,
   "id": "rocky-robertson",
   "metadata": {},
   "outputs": [
    {
     "name": "stdout",
     "output_type": "stream",
     "text": [
      "Epoch 1/200\n",
      "220/220 [==============================] - 12s 35ms/step - loss: 4.6881 - accuracy: 0.1597 - val_loss: 1.9030 - val_accuracy: 0.3431\n",
      "Epoch 2/200\n",
      "220/220 [==============================] - 6s 25ms/step - loss: 2.6767 - accuracy: 0.2564 - val_loss: 1.6177 - val_accuracy: 0.4291\n",
      "Epoch 3/200\n",
      "220/220 [==============================] - 6s 26ms/step - loss: 1.9494 - accuracy: 0.3693 - val_loss: 1.3817 - val_accuracy: 0.5098\n",
      "Epoch 4/200\n",
      "220/220 [==============================] - 5s 25ms/step - loss: 1.6669 - accuracy: 0.4219 - val_loss: 1.2608 - val_accuracy: 0.5813\n",
      "Epoch 5/200\n",
      "220/220 [==============================] - 6s 27ms/step - loss: 1.4982 - accuracy: 0.5033 - val_loss: 1.1976 - val_accuracy: 0.5692\n",
      "Epoch 6/200\n",
      "220/220 [==============================] - 6s 27ms/step - loss: 1.3843 - accuracy: 0.5266 - val_loss: 1.1394 - val_accuracy: 0.6101\n",
      "Epoch 7/200\n",
      "220/220 [==============================] - 6s 27ms/step - loss: 1.2809 - accuracy: 0.5590 - val_loss: 1.1017 - val_accuracy: 0.5992\n",
      "Epoch 8/200\n",
      "220/220 [==============================] - 6s 26ms/step - loss: 1.2249 - accuracy: 0.5682 - val_loss: 1.0055 - val_accuracy: 0.6378\n",
      "Epoch 9/200\n",
      "220/220 [==============================] - 6s 26ms/step - loss: 1.1632 - accuracy: 0.5782 - val_loss: 0.9910 - val_accuracy: 0.6367\n",
      "Epoch 10/200\n",
      "220/220 [==============================] - 6s 26ms/step - loss: 1.0830 - accuracy: 0.6140 - val_loss: 0.9482 - val_accuracy: 0.6557\n",
      "Epoch 11/200\n",
      "220/220 [==============================] - 6s 26ms/step - loss: 1.0450 - accuracy: 0.6370 - val_loss: 0.9552 - val_accuracy: 0.6586\n",
      "Epoch 12/200\n",
      "220/220 [==============================] - 6s 26ms/step - loss: 1.0532 - accuracy: 0.6220 - val_loss: 0.9116 - val_accuracy: 0.6742\n",
      "Epoch 13/200\n",
      "220/220 [==============================] - 6s 26ms/step - loss: 1.0021 - accuracy: 0.6563 - val_loss: 0.8956 - val_accuracy: 0.6747\n",
      "Epoch 14/200\n",
      "220/220 [==============================] - 6s 26ms/step - loss: 0.9969 - accuracy: 0.6454 - val_loss: 0.8767 - val_accuracy: 0.6834\n",
      "Epoch 15/200\n",
      "220/220 [==============================] - 6s 26ms/step - loss: 0.9583 - accuracy: 0.6590 - val_loss: 0.8689 - val_accuracy: 0.6776\n",
      "Epoch 16/200\n",
      "220/220 [==============================] - 6s 27ms/step - loss: 0.9490 - accuracy: 0.6553 - val_loss: 0.8442 - val_accuracy: 0.6805\n",
      "Epoch 17/200\n",
      "220/220 [==============================] - 6s 26ms/step - loss: 0.9053 - accuracy: 0.6701 - val_loss: 0.8363 - val_accuracy: 0.6828\n",
      "Epoch 18/200\n",
      "220/220 [==============================] - 6s 27ms/step - loss: 0.9331 - accuracy: 0.6563 - val_loss: 0.8158 - val_accuracy: 0.6961\n",
      "Epoch 19/200\n",
      "220/220 [==============================] - 6s 27ms/step - loss: 0.8777 - accuracy: 0.6806 - val_loss: 0.8075 - val_accuracy: 0.7082\n",
      "Epoch 20/200\n",
      "220/220 [==============================] - 6s 26ms/step - loss: 0.8951 - accuracy: 0.6648 - val_loss: 0.7997 - val_accuracy: 0.7024\n",
      "Epoch 21/200\n",
      "220/220 [==============================] - 6s 26ms/step - loss: 0.8607 - accuracy: 0.6792 - val_loss: 0.7878 - val_accuracy: 0.7093\n",
      "Epoch 22/200\n",
      "220/220 [==============================] - 6s 26ms/step - loss: 0.8372 - accuracy: 0.6963 - val_loss: 0.7752 - val_accuracy: 0.7157\n",
      "Epoch 23/200\n",
      "220/220 [==============================] - 6s 26ms/step - loss: 0.8351 - accuracy: 0.6901 - val_loss: 0.7904 - val_accuracy: 0.7007\n",
      "Epoch 24/200\n",
      "220/220 [==============================] - 6s 27ms/step - loss: 0.7930 - accuracy: 0.7090 - val_loss: 0.7422 - val_accuracy: 0.7451\n",
      "Epoch 25/200\n",
      "220/220 [==============================] - 6s 26ms/step - loss: 0.7789 - accuracy: 0.7042 - val_loss: 0.7461 - val_accuracy: 0.7313\n",
      "Epoch 26/200\n",
      "220/220 [==============================] - 6s 27ms/step - loss: 0.7958 - accuracy: 0.7074 - val_loss: 0.7347 - val_accuracy: 0.7336\n",
      "Epoch 27/200\n",
      "220/220 [==============================] - 7s 30ms/step - loss: 0.7641 - accuracy: 0.7145 - val_loss: 0.7363 - val_accuracy: 0.7186\n",
      "Epoch 28/200\n",
      "220/220 [==============================] - 7s 31ms/step - loss: 0.7392 - accuracy: 0.7203 - val_loss: 0.7303 - val_accuracy: 0.7272\n",
      "Epoch 29/200\n",
      "220/220 [==============================] - 6s 28ms/step - loss: 0.7447 - accuracy: 0.7132 - val_loss: 0.7139 - val_accuracy: 0.7376\n",
      "Epoch 30/200\n",
      "220/220 [==============================] - 6s 26ms/step - loss: 0.7512 - accuracy: 0.7056 - val_loss: 0.7104 - val_accuracy: 0.7503\n",
      "Epoch 31/200\n",
      "220/220 [==============================] - 6s 29ms/step - loss: 0.7225 - accuracy: 0.7300 - val_loss: 0.6933 - val_accuracy: 0.7457\n",
      "Epoch 32/200\n",
      "220/220 [==============================] - 6s 26ms/step - loss: 0.7429 - accuracy: 0.7190 - val_loss: 0.6912 - val_accuracy: 0.7457\n",
      "Epoch 33/200\n",
      "220/220 [==============================] - 6s 29ms/step - loss: 0.7407 - accuracy: 0.7290 - val_loss: 0.6734 - val_accuracy: 0.7532\n",
      "Epoch 34/200\n",
      "220/220 [==============================] - 7s 30ms/step - loss: 0.7184 - accuracy: 0.7353 - val_loss: 0.6955 - val_accuracy: 0.7393\n",
      "Epoch 35/200\n",
      "220/220 [==============================] - 6s 26ms/step - loss: 0.7088 - accuracy: 0.7300 - val_loss: 0.6905 - val_accuracy: 0.7445\n",
      "Epoch 36/200\n",
      "220/220 [==============================] - 6s 26ms/step - loss: 0.7078 - accuracy: 0.7316 - val_loss: 0.6650 - val_accuracy: 0.7532\n",
      "Epoch 37/200\n",
      "220/220 [==============================] - 5s 25ms/step - loss: 0.6734 - accuracy: 0.7418 - val_loss: 0.6739 - val_accuracy: 0.7566\n",
      "Epoch 38/200\n",
      "220/220 [==============================] - 6s 25ms/step - loss: 0.6877 - accuracy: 0.7360 - val_loss: 0.6562 - val_accuracy: 0.7682\n",
      "Epoch 39/200\n",
      "220/220 [==============================] - 6s 25ms/step - loss: 0.6707 - accuracy: 0.7504 - val_loss: 0.6681 - val_accuracy: 0.7578\n",
      "Epoch 40/200\n",
      "220/220 [==============================] - 6s 26ms/step - loss: 0.6824 - accuracy: 0.7420 - val_loss: 0.6486 - val_accuracy: 0.7636\n",
      "Epoch 41/200\n",
      "220/220 [==============================] - 6s 25ms/step - loss: 0.6627 - accuracy: 0.7526 - val_loss: 0.6429 - val_accuracy: 0.7757\n",
      "Epoch 42/200\n",
      "220/220 [==============================] - 6s 26ms/step - loss: 0.6488 - accuracy: 0.7570 - val_loss: 0.6576 - val_accuracy: 0.7589\n",
      "Epoch 43/200\n",
      "220/220 [==============================] - 5s 25ms/step - loss: 0.6449 - accuracy: 0.7616 - val_loss: 0.6597 - val_accuracy: 0.7612\n",
      "Epoch 44/200\n",
      "220/220 [==============================] - 6s 25ms/step - loss: 0.6314 - accuracy: 0.7725 - val_loss: 0.6559 - val_accuracy: 0.7618\n",
      "Epoch 45/200\n",
      "220/220 [==============================] - 6s 25ms/step - loss: 0.6704 - accuracy: 0.7540 - val_loss: 0.6294 - val_accuracy: 0.7705\n",
      "Epoch 46/200\n",
      "220/220 [==============================] - 6s 26ms/step - loss: 0.6443 - accuracy: 0.7521 - val_loss: 0.6153 - val_accuracy: 0.7682\n",
      "Epoch 47/200\n",
      "220/220 [==============================] - 6s 28ms/step - loss: 0.6612 - accuracy: 0.7522 - val_loss: 0.6546 - val_accuracy: 0.7549\n",
      "Epoch 48/200\n",
      "220/220 [==============================] - 6s 28ms/step - loss: 0.6696 - accuracy: 0.7509 - val_loss: 0.6422 - val_accuracy: 0.7653\n",
      "Epoch 49/200\n",
      "220/220 [==============================] - 6s 27ms/step - loss: 0.6175 - accuracy: 0.7744 - val_loss: 0.6495 - val_accuracy: 0.7716\n",
      "Epoch 50/200\n",
      "220/220 [==============================] - 6s 25ms/step - loss: 0.6359 - accuracy: 0.7563 - val_loss: 0.6103 - val_accuracy: 0.76306368 \n",
      "Epoch 51/200\n",
      "220/220 [==============================] - 5s 25ms/step - loss: 0.6329 - accuracy: 0.7561 - val_loss: 0.6084 - val_accuracy: 0.7710\n",
      "Epoch 52/200\n",
      "220/220 [==============================] - 5s 24ms/step - loss: 0.6050 - accuracy: 0.7694 - val_loss: 0.5986 - val_accuracy: 0.7791\n",
      "Epoch 53/200\n",
      "220/220 [==============================] - 6s 26ms/step - loss: 0.6450 - accuracy: 0.7695 - val_loss: 0.5959 - val_accuracy: 0.7791\n",
      "Epoch 54/200\n",
      "220/220 [==============================] - 5s 24ms/step - loss: 0.6164 - accuracy: 0.7661 - val_loss: 0.5838 - val_accuracy: 0.786065 - accuracy\n",
      "Epoch 55/200\n",
      "220/220 [==============================] - 5s 25ms/step - loss: 0.6138 - accuracy: 0.7749 - val_loss: 0.5950 - val_accuracy: 0.7855\n",
      "Epoch 56/200\n",
      "220/220 [==============================] - 5s 25ms/step - loss: 0.5892 - accuracy: 0.7907 - val_loss: 0.6021 - val_accuracy: 0.7774\n",
      "Epoch 57/200\n"
     ]
    },
    {
     "name": "stdout",
     "output_type": "stream",
     "text": [
      "220/220 [==============================] - 5s 25ms/step - loss: 0.5935 - accuracy: 0.7792 - val_loss: 0.5736 - val_accuracy: 0.7866\n",
      "Epoch 58/200\n",
      "220/220 [==============================] - 6s 25ms/step - loss: 0.5605 - accuracy: 0.7967 - val_loss: 0.5867 - val_accuracy: 0.7872\n",
      "Epoch 59/200\n",
      "220/220 [==============================] - 5s 24ms/step - loss: 0.5886 - accuracy: 0.7826 - val_loss: 0.5899 - val_accuracy: 0.7797\n",
      "Epoch 60/200\n",
      "220/220 [==============================] - 5s 24ms/step - loss: 0.5678 - accuracy: 0.7953 - val_loss: 0.5721 - val_accuracy: 0.7982\n",
      "Epoch 61/200\n",
      "220/220 [==============================] - 5s 24ms/step - loss: 0.5518 - accuracy: 0.7891 - val_loss: 0.5742 - val_accuracy: 0.7797\n",
      "Epoch 62/200\n",
      "220/220 [==============================] - 5s 24ms/step - loss: 0.5594 - accuracy: 0.7948 - val_loss: 0.5940 - val_accuracy: 0.7837\n",
      "Epoch 63/200\n",
      "220/220 [==============================] - 5s 25ms/step - loss: 0.5747 - accuracy: 0.7871 - val_loss: 0.5761 - val_accuracy: 0.7924 \n",
      "Epoch 64/200\n",
      "220/220 [==============================] - 7s 32ms/step - loss: 0.5958 - accuracy: 0.7793 - val_loss: 0.5569 - val_accuracy: 0.7970\n",
      "Epoch 65/200\n",
      "220/220 [==============================] - 7s 33ms/step - loss: 0.5869 - accuracy: 0.7933 - val_loss: 0.5528 - val_accuracy: 0.8016\n",
      "Epoch 66/200\n",
      "220/220 [==============================] - 6s 27ms/step - loss: 0.5584 - accuracy: 0.7913 - val_loss: 0.5724 - val_accuracy: 0.7878\n",
      "Epoch 67/200\n",
      "220/220 [==============================] - 6s 27ms/step - loss: 0.5849 - accuracy: 0.7806 - val_loss: 0.5724 - val_accuracy: 0.7884\n",
      "Epoch 68/200\n",
      "220/220 [==============================] - 7s 33ms/step - loss: 0.5614 - accuracy: 0.7989 - val_loss: 0.5659 - val_accuracy: 0.7976\n",
      "Epoch 69/200\n",
      "220/220 [==============================] - 6s 27ms/step - loss: 0.5566 - accuracy: 0.7919 - val_loss: 0.5591 - val_accuracy: 0.7947\n",
      "Epoch 70/200\n",
      "220/220 [==============================] - 5s 24ms/step - loss: 0.5392 - accuracy: 0.8043 - val_loss: 0.5533 - val_accuracy: 0.7964\n",
      "Epoch 71/200\n",
      "220/220 [==============================] - 5s 23ms/step - loss: 0.5641 - accuracy: 0.7922 - val_loss: 0.5474 - val_accuracy: 0.7993\n",
      "Epoch 72/200\n",
      "220/220 [==============================] - 5s 24ms/step - loss: 0.5438 - accuracy: 0.7938 - val_loss: 0.5475 - val_accuracy: 0.7941\n",
      "Epoch 73/200\n",
      "220/220 [==============================] - 5s 23ms/step - loss: 0.5220 - accuracy: 0.8061 - val_loss: 0.5489 - val_accuracy: 0.7947\n",
      "Epoch 74/200\n",
      "220/220 [==============================] - 6s 27ms/step - loss: 0.5175 - accuracy: 0.8098 - val_loss: 0.5397 - val_accuracy: 0.8062\n",
      "Epoch 75/200\n",
      "220/220 [==============================] - 6s 29ms/step - loss: 0.5241 - accuracy: 0.8001 - val_loss: 0.5384 - val_accuracy: 0.8028\n",
      "Epoch 76/200\n",
      "220/220 [==============================] - 5s 23ms/step - loss: 0.5191 - accuracy: 0.8115 - val_loss: 0.5440 - val_accuracy: 0.8005\n",
      "Epoch 77/200\n",
      "220/220 [==============================] - 5s 24ms/step - loss: 0.5130 - accuracy: 0.8057 - val_loss: 0.5345 - val_accuracy: 0.8005\n",
      "Epoch 78/200\n",
      "220/220 [==============================] - 5s 24ms/step - loss: 0.5137 - accuracy: 0.8138 - val_loss: 0.5454 - val_accuracy: 0.8010\n",
      "Epoch 79/200\n",
      "220/220 [==============================] - 5s 25ms/step - loss: 0.5120 - accuracy: 0.8066 - val_loss: 0.5430 - val_accuracy: 0.7999\n",
      "Epoch 80/200\n",
      "220/220 [==============================] - 5s 24ms/step - loss: 0.5074 - accuracy: 0.8179 - val_loss: 0.5451 - val_accuracy: 0.8039\n",
      "Epoch 81/200\n",
      "220/220 [==============================] - 5s 24ms/step - loss: 0.5131 - accuracy: 0.8138 - val_loss: 0.5412 - val_accuracy: 0.8005\n",
      "Epoch 82/200\n",
      "220/220 [==============================] - 5s 24ms/step - loss: 0.5038 - accuracy: 0.8167 - val_loss: 0.5251 - val_accuracy: 0.8108\n",
      "Epoch 83/200\n",
      "220/220 [==============================] - 5s 24ms/step - loss: 0.4957 - accuracy: 0.8169 - val_loss: 0.5399 - val_accuracy: 0.8005\n",
      "Epoch 84/200\n",
      "220/220 [==============================] - 5s 23ms/step - loss: 0.4997 - accuracy: 0.8253 - val_loss: 0.5222 - val_accuracy: 0.8085\n",
      "Epoch 85/200\n",
      "220/220 [==============================] - 5s 23ms/step - loss: 0.4945 - accuracy: 0.8204 - val_loss: 0.5582 - val_accuracy: 0.7958\n",
      "Epoch 86/200\n",
      "220/220 [==============================] - 5s 23ms/step - loss: 0.5008 - accuracy: 0.8246 - val_loss: 0.5375 - val_accuracy: 0.7924\n",
      "Epoch 87/200\n",
      "220/220 [==============================] - 5s 23ms/step - loss: 0.4931 - accuracy: 0.8214 - val_loss: 0.5308 - val_accuracy: 0.8028\n",
      "Epoch 88/200\n",
      "220/220 [==============================] - 5s 24ms/step - loss: 0.5155 - accuracy: 0.8103 - val_loss: 0.5162 - val_accuracy: 0.8016\n",
      "Epoch 89/200\n",
      "220/220 [==============================] - 5s 24ms/step - loss: 0.4885 - accuracy: 0.8181 - val_loss: 0.5162 - val_accuracy: 0.8085\n",
      "Epoch 90/200\n",
      "220/220 [==============================] - 6s 27ms/step - loss: 0.4812 - accuracy: 0.8332 - val_loss: 0.5225 - val_accuracy: 0.8074\n",
      "Epoch 91/200\n",
      "220/220 [==============================] - 6s 28ms/step - loss: 0.5081 - accuracy: 0.8203 - val_loss: 0.5217 - val_accuracy: 0.8057\n",
      "Epoch 92/200\n",
      "220/220 [==============================] - 5s 25ms/step - loss: 0.4865 - accuracy: 0.8195 - val_loss: 0.5253 - val_accuracy: 0.8062\n",
      "Epoch 93/200\n",
      "220/220 [==============================] - 6s 26ms/step - loss: 0.5148 - accuracy: 0.8156 - val_loss: 0.5124 - val_accuracy: 0.8131\n",
      "Epoch 94/200\n",
      "220/220 [==============================] - 5s 24ms/step - loss: 0.4808 - accuracy: 0.8306 - val_loss: 0.5108 - val_accuracy: 0.8068\n",
      "Epoch 95/200\n",
      "220/220 [==============================] - 5s 24ms/step - loss: 0.4794 - accuracy: 0.8187 - val_loss: 0.5021 - val_accuracy: 0.8212\n",
      "Epoch 96/200\n",
      "220/220 [==============================] - 6s 25ms/step - loss: 0.4672 - accuracy: 0.8339 - val_loss: 0.5158 - val_accuracy: 0.8131\n",
      "Epoch 97/200\n",
      "220/220 [==============================] - 5s 24ms/step - loss: 0.4875 - accuracy: 0.8170 - val_loss: 0.5148 - val_accuracy: 0.8108\n",
      "Epoch 98/200\n",
      "220/220 [==============================] - 5s 25ms/step - loss: 0.4688 - accuracy: 0.8214 - val_loss: 0.5182 - val_accuracy: 0.8131\n",
      "Epoch 99/200\n",
      "220/220 [==============================] - 5s 24ms/step - loss: 0.4452 - accuracy: 0.8325 - val_loss: 0.5061 - val_accuracy: 0.8131\n",
      "Epoch 100/200\n",
      "220/220 [==============================] - 6s 27ms/step - loss: 0.4404 - accuracy: 0.8442 - val_loss: 0.4969 - val_accuracy: 0.8224\n",
      "Epoch 101/200\n",
      "220/220 [==============================] - 5s 24ms/step - loss: 0.4937 - accuracy: 0.8251 - val_loss: 0.4963 - val_accuracy: 0.8247\n",
      "Epoch 102/200\n",
      "220/220 [==============================] - 5s 24ms/step - loss: 0.4651 - accuracy: 0.8270 - val_loss: 0.4984 - val_accuracy: 0.8247\n",
      "Epoch 103/200\n",
      "220/220 [==============================] - 5s 24ms/step - loss: 0.4597 - accuracy: 0.8316 - val_loss: 0.5069 - val_accuracy: 0.8097\n",
      "Epoch 104/200\n",
      "220/220 [==============================] - 5s 23ms/step - loss: 0.4640 - accuracy: 0.8304 - val_loss: 0.4938 - val_accuracy: 0.8189\n",
      "Epoch 105/200\n",
      "220/220 [==============================] - 5s 24ms/step - loss: 0.4548 - accuracy: 0.8334 - val_loss: 0.5064 - val_accuracy: 0.8230\n",
      "Epoch 106/200\n",
      "220/220 [==============================] - 5s 24ms/step - loss: 0.4354 - accuracy: 0.8384 - val_loss: 0.5025 - val_accuracy: 0.8137\n",
      "Epoch 107/200\n",
      "220/220 [==============================] - 5s 24ms/step - loss: 0.4360 - accuracy: 0.8405 - val_loss: 0.5057 - val_accuracy: 0.8149\n",
      "Epoch 108/200\n",
      "220/220 [==============================] - 5s 24ms/step - loss: 0.4479 - accuracy: 0.8314 - val_loss: 0.5143 - val_accuracy: 0.8080\n",
      "Epoch 109/200\n",
      "220/220 [==============================] - 6s 29ms/step - loss: 0.4534 - accuracy: 0.8301 - val_loss: 0.5226 - val_accuracy: 0.8062\n",
      "Epoch 110/200\n",
      "220/220 [==============================] - 6s 26ms/step - loss: 0.4498 - accuracy: 0.8337 - val_loss: 0.4960 - val_accuracy: 0.8201\n",
      "Epoch 111/200\n",
      "220/220 [==============================] - 5s 24ms/step - loss: 0.4408 - accuracy: 0.8361 - val_loss: 0.5045 - val_accuracy: 0.8201\n",
      "Epoch 112/200\n",
      "220/220 [==============================] - 5s 24ms/step - loss: 0.4319 - accuracy: 0.8443 - val_loss: 0.4876 - val_accuracy: 0.8206\n",
      "Epoch 113/200\n"
     ]
    },
    {
     "name": "stdout",
     "output_type": "stream",
     "text": [
      "220/220 [==============================] - 5s 24ms/step - loss: 0.4434 - accuracy: 0.8404 - val_loss: 0.4977 - val_accuracy: 0.8241\n",
      "Epoch 114/200\n",
      "220/220 [==============================] - 5s 25ms/step - loss: 0.4389 - accuracy: 0.8282 - val_loss: 0.4861 - val_accuracy: 0.8195\n",
      "Epoch 115/200\n",
      "220/220 [==============================] - 5s 23ms/step - loss: 0.4297 - accuracy: 0.8398 - val_loss: 0.4935 - val_accuracy: 0.8183\n",
      "Epoch 116/200\n",
      "220/220 [==============================] - 5s 23ms/step - loss: 0.4135 - accuracy: 0.8484 - val_loss: 0.4829 - val_accuracy: 0.8241\n",
      "Epoch 117/200\n",
      "220/220 [==============================] - 5s 23ms/step - loss: 0.4131 - accuracy: 0.8521 - val_loss: 0.4863 - val_accuracy: 0.8212\n",
      "Epoch 118/200\n",
      "220/220 [==============================] - 5s 24ms/step - loss: 0.4084 - accuracy: 0.8401 - val_loss: 0.4766 - val_accuracy: 0.8281\n",
      "Epoch 119/200\n",
      "220/220 [==============================] - 5s 23ms/step - loss: 0.4295 - accuracy: 0.8403 - val_loss: 0.4863 - val_accuracy: 0.8235\n",
      "Epoch 120/200\n",
      "220/220 [==============================] - 5s 24ms/step - loss: 0.4099 - accuracy: 0.8455 - val_loss: 0.4804 - val_accuracy: 0.8281\n",
      "Epoch 121/200\n",
      "220/220 [==============================] - 5s 24ms/step - loss: 0.4194 - accuracy: 0.8432 - val_loss: 0.4962 - val_accuracy: 0.8172\n",
      "Epoch 122/200\n",
      "220/220 [==============================] - 5s 24ms/step - loss: 0.4088 - accuracy: 0.8516 - val_loss: 0.5183 - val_accuracy: 0.8218\n",
      "Epoch 123/200\n",
      "220/220 [==============================] - 5s 24ms/step - loss: 0.3994 - accuracy: 0.8540 - val_loss: 0.4756 - val_accuracy: 0.8293\n",
      "Epoch 124/200\n",
      "220/220 [==============================] - 5s 24ms/step - loss: 0.4079 - accuracy: 0.8466 - val_loss: 0.4902 - val_accuracy: 0.8183\n",
      "Epoch 125/200\n",
      "220/220 [==============================] - 5s 23ms/step - loss: 0.3814 - accuracy: 0.8578 - val_loss: 0.4786 - val_accuracy: 0.8264\n",
      "Epoch 126/200\n",
      "220/220 [==============================] - 6s 25ms/step - loss: 0.4057 - accuracy: 0.8496 - val_loss: 0.4901 - val_accuracy: 0.8241\n",
      "Epoch 127/200\n",
      "220/220 [==============================] - 5s 23ms/step - loss: 0.4149 - accuracy: 0.8446 - val_loss: 0.4719 - val_accuracy: 0.8333\n",
      "Epoch 128/200\n",
      "220/220 [==============================] - 5s 24ms/step - loss: 0.3995 - accuracy: 0.8506 - val_loss: 0.4726 - val_accuracy: 0.8258\n",
      "Epoch 129/200\n",
      "220/220 [==============================] - 5s 24ms/step - loss: 0.3828 - accuracy: 0.8645 - val_loss: 0.4740 - val_accuracy: 0.8276\n",
      "Epoch 130/200\n",
      "220/220 [==============================] - 5s 24ms/step - loss: 0.3926 - accuracy: 0.8570 - val_loss: 0.4758 - val_accuracy: 0.8281\n",
      "Epoch 131/200\n",
      "220/220 [==============================] - 5s 24ms/step - loss: 0.4056 - accuracy: 0.8510 - val_loss: 0.4738 - val_accuracy: 0.8230\n",
      "Epoch 132/200\n",
      "220/220 [==============================] - 5s 23ms/step - loss: 0.3889 - accuracy: 0.8558 - val_loss: 0.4738 - val_accuracy: 0.8328\n",
      "Epoch 133/200\n",
      "220/220 [==============================] - 5s 24ms/step - loss: 0.3700 - accuracy: 0.8649 - val_loss: 0.4648 - val_accuracy: 0.8281\n",
      "Epoch 134/200\n",
      "220/220 [==============================] - 5s 24ms/step - loss: 0.3960 - accuracy: 0.8588 - val_loss: 0.4874 - val_accuracy: 0.8299\n",
      "Epoch 135/200\n",
      "220/220 [==============================] - 5s 25ms/step - loss: 0.3785 - accuracy: 0.8562 - val_loss: 0.4654 - val_accuracy: 0.8322\n",
      "Epoch 136/200\n",
      "220/220 [==============================] - 5s 24ms/step - loss: 0.3656 - accuracy: 0.8712 - val_loss: 0.4641 - val_accuracy: 0.8339\n",
      "Epoch 137/200\n",
      "220/220 [==============================] - 5s 24ms/step - loss: 0.3878 - accuracy: 0.8554 - val_loss: 0.4762 - val_accuracy: 0.8281\n",
      "Epoch 138/200\n",
      "220/220 [==============================] - 5s 24ms/step - loss: 0.3774 - accuracy: 0.8652 - val_loss: 0.4833 - val_accuracy: 0.8264\n",
      "Epoch 139/200\n",
      "220/220 [==============================] - 5s 24ms/step - loss: 0.3832 - accuracy: 0.8573 - val_loss: 0.4673 - val_accuracy: 0.8281\n",
      "Epoch 140/200\n",
      "220/220 [==============================] - 5s 24ms/step - loss: 0.3804 - accuracy: 0.8638 - val_loss: 0.4586 - val_accuracy: 0.8316\n",
      "Epoch 141/200\n",
      "220/220 [==============================] - 5s 23ms/step - loss: 0.3608 - accuracy: 0.8712 - val_loss: 0.4763 - val_accuracy: 0.8264\n",
      "Epoch 142/200\n",
      "220/220 [==============================] - 5s 24ms/step - loss: 0.3753 - accuracy: 0.8632 - val_loss: 0.4669 - val_accuracy: 0.8345\n",
      "Epoch 143/200\n",
      "220/220 [==============================] - 5s 24ms/step - loss: 0.3475 - accuracy: 0.8742 - val_loss: 0.4611 - val_accuracy: 0.8299\n",
      "Epoch 144/200\n",
      "220/220 [==============================] - 5s 24ms/step - loss: 0.3727 - accuracy: 0.8574 - val_loss: 0.4595 - val_accuracy: 0.8379\n",
      "Epoch 145/200\n",
      "220/220 [==============================] - 5s 24ms/step - loss: 0.3789 - accuracy: 0.8685 - val_loss: 0.4660 - val_accuracy: 0.8379\n",
      "Epoch 146/200\n",
      "220/220 [==============================] - 5s 24ms/step - loss: 0.3841 - accuracy: 0.8643 - val_loss: 0.4793 - val_accuracy: 0.8293\n",
      "Epoch 147/200\n",
      "220/220 [==============================] - 5s 25ms/step - loss: 0.3797 - accuracy: 0.8609 - val_loss: 0.4609 - val_accuracy: 0.8235\n",
      "Epoch 148/200\n",
      "220/220 [==============================] - 5s 24ms/step - loss: 0.3396 - accuracy: 0.8711 - val_loss: 0.4639 - val_accuracy: 0.8270\n",
      "Epoch 149/200\n",
      "220/220 [==============================] - 5s 24ms/step - loss: 0.3526 - accuracy: 0.8702 - val_loss: 0.4602 - val_accuracy: 0.8247\n",
      "Epoch 150/200\n",
      "220/220 [==============================] - 5s 24ms/step - loss: 0.3799 - accuracy: 0.8565 - val_loss: 0.4600 - val_accuracy: 0.8299\n",
      "Epoch 151/200\n",
      "220/220 [==============================] - 5s 25ms/step - loss: 0.3479 - accuracy: 0.8794 - val_loss: 0.4537 - val_accuracy: 0.8374\n",
      "Epoch 152/200\n",
      "220/220 [==============================] - 5s 24ms/step - loss: 0.3660 - accuracy: 0.8759 - val_loss: 0.4563 - val_accuracy: 0.8351\n",
      "Epoch 153/200\n",
      "220/220 [==============================] - 5s 25ms/step - loss: 0.3356 - accuracy: 0.8804 - val_loss: 0.4532 - val_accuracy: 0.8281\n",
      "Epoch 154/200\n",
      "220/220 [==============================] - 5s 24ms/step - loss: 0.3529 - accuracy: 0.8668 - val_loss: 0.4520 - val_accuracy: 0.8426\n",
      "Epoch 155/200\n",
      "220/220 [==============================] - 5s 24ms/step - loss: 0.3420 - accuracy: 0.8764 - val_loss: 0.4533 - val_accuracy: 0.8437\n",
      "Epoch 156/200\n",
      "220/220 [==============================] - 5s 24ms/step - loss: 0.3143 - accuracy: 0.8841 - val_loss: 0.4591 - val_accuracy: 0.8304\n",
      "Epoch 157/200\n",
      "220/220 [==============================] - 5s 23ms/step - loss: 0.3389 - accuracy: 0.8765 - val_loss: 0.4424 - val_accuracy: 0.8437\n",
      "Epoch 158/200\n",
      "220/220 [==============================] - 6s 26ms/step - loss: 0.3189 - accuracy: 0.8862 - val_loss: 0.4676 - val_accuracy: 0.8408\n",
      "Epoch 159/200\n",
      "220/220 [==============================] - 5s 24ms/step - loss: 0.3468 - accuracy: 0.8766 - val_loss: 0.4723 - val_accuracy: 0.8328\n",
      "Epoch 160/200\n",
      "220/220 [==============================] - 5s 24ms/step - loss: 0.3172 - accuracy: 0.8867 - val_loss: 0.4579 - val_accuracy: 0.8391\n",
      "Epoch 161/200\n",
      "220/220 [==============================] - 5s 25ms/step - loss: 0.3303 - accuracy: 0.8779 - val_loss: 0.4466 - val_accuracy: 0.8403\n",
      "Epoch 162/200\n",
      "220/220 [==============================] - 5s 24ms/step - loss: 0.3552 - accuracy: 0.8658 - val_loss: 0.4461 - val_accuracy: 0.8403\n",
      "Epoch 163/200\n",
      "220/220 [==============================] - 5s 24ms/step - loss: 0.3234 - accuracy: 0.8904 - val_loss: 0.4424 - val_accuracy: 0.8374\n",
      "Epoch 164/200\n",
      "220/220 [==============================] - 5s 24ms/step - loss: 0.3602 - accuracy: 0.8686 - val_loss: 0.4410 - val_accuracy: 0.8385\n",
      "Epoch 165/200\n",
      "220/220 [==============================] - 5s 24ms/step - loss: 0.3512 - accuracy: 0.8794 - val_loss: 0.4559 - val_accuracy: 0.8397\n",
      "Epoch 166/200\n",
      "220/220 [==============================] - 5s 24ms/step - loss: 0.3365 - accuracy: 0.8838 - val_loss: 0.4590 - val_accuracy: 0.8379\n",
      "Epoch 167/200\n",
      "220/220 [==============================] - 5s 24ms/step - loss: 0.3340 - accuracy: 0.8835 - val_loss: 0.4517 - val_accuracy: 0.8304\n",
      "Epoch 168/200\n",
      "220/220 [==============================] - 5s 24ms/step - loss: 0.3185 - accuracy: 0.8865 - val_loss: 0.4652 - val_accuracy: 0.8258\n",
      "Epoch 169/200\n"
     ]
    },
    {
     "name": "stdout",
     "output_type": "stream",
     "text": [
      "220/220 [==============================] - 5s 24ms/step - loss: 0.3478 - accuracy: 0.8698 - val_loss: 0.4693 - val_accuracy: 0.8328\n",
      "Epoch 170/200\n",
      "220/220 [==============================] - 5s 23ms/step - loss: 0.3083 - accuracy: 0.8878 - val_loss: 0.4382 - val_accuracy: 0.8437\n",
      "Epoch 171/200\n",
      "220/220 [==============================] - 5s 24ms/step - loss: 0.3322 - accuracy: 0.8844 - val_loss: 0.4580 - val_accuracy: 0.8420\n",
      "Epoch 172/200\n",
      "220/220 [==============================] - 5s 23ms/step - loss: 0.3312 - accuracy: 0.8774 - val_loss: 0.4455 - val_accuracy: 0.8443\n",
      "Epoch 173/200\n",
      "220/220 [==============================] - 5s 23ms/step - loss: 0.3134 - accuracy: 0.8858 - val_loss: 0.4464 - val_accuracy: 0.8374\n",
      "Epoch 174/200\n",
      "220/220 [==============================] - 5s 23ms/step - loss: 0.3298 - accuracy: 0.8858 - val_loss: 0.4356 - val_accuracy: 0.8408\n",
      "Epoch 175/200\n",
      "220/220 [==============================] - 5s 23ms/step - loss: 0.3133 - accuracy: 0.8837 - val_loss: 0.4490 - val_accuracy: 0.8472\n",
      "Epoch 176/200\n",
      "220/220 [==============================] - 5s 23ms/step - loss: 0.3266 - accuracy: 0.8867 - val_loss: 0.4423 - val_accuracy: 0.8426\n",
      "Epoch 177/200\n",
      "220/220 [==============================] - 5s 23ms/step - loss: 0.3059 - accuracy: 0.8928 - val_loss: 0.4364 - val_accuracy: 0.8454\n",
      "Epoch 178/200\n",
      "220/220 [==============================] - 5s 24ms/step - loss: 0.3167 - accuracy: 0.8893 - val_loss: 0.4476 - val_accuracy: 0.8449\n",
      "Epoch 179/200\n",
      "220/220 [==============================] - 5s 23ms/step - loss: 0.3050 - accuracy: 0.8807 - val_loss: 0.4390 - val_accuracy: 0.8478\n",
      "Epoch 180/200\n",
      "220/220 [==============================] - 6s 27ms/step - loss: 0.2899 - accuracy: 0.8923 - val_loss: 0.4606 - val_accuracy: 0.8408\n",
      "Epoch 181/200\n",
      "220/220 [==============================] - 6s 26ms/step - loss: 0.2901 - accuracy: 0.8932 - val_loss: 0.4510 - val_accuracy: 0.8420\n",
      "Epoch 182/200\n",
      "220/220 [==============================] - 5s 24ms/step - loss: 0.3093 - accuracy: 0.8863 - val_loss: 0.4386 - val_accuracy: 0.8489\n",
      "Epoch 183/200\n",
      "220/220 [==============================] - 5s 24ms/step - loss: 0.3005 - accuracy: 0.8970 - val_loss: 0.4533 - val_accuracy: 0.8362\n",
      "Epoch 184/200\n",
      "220/220 [==============================] - 5s 24ms/step - loss: 0.2983 - accuracy: 0.8895 - val_loss: 0.4474 - val_accuracy: 0.8420\n",
      "Epoch 185/200\n",
      "220/220 [==============================] - 5s 24ms/step - loss: 0.2805 - accuracy: 0.8979 - val_loss: 0.4414 - val_accuracy: 0.8449\n",
      "Epoch 186/200\n",
      "220/220 [==============================] - 5s 24ms/step - loss: 0.3119 - accuracy: 0.8817 - val_loss: 0.4343 - val_accuracy: 0.8512\n",
      "Epoch 187/200\n",
      "220/220 [==============================] - 5s 23ms/step - loss: 0.2702 - accuracy: 0.9030 - val_loss: 0.4403 - val_accuracy: 0.8460\n",
      "Epoch 188/200\n",
      "220/220 [==============================] - 5s 24ms/step - loss: 0.2871 - accuracy: 0.9012 - val_loss: 0.4565 - val_accuracy: 0.8356\n",
      "Epoch 189/200\n",
      "220/220 [==============================] - 5s 25ms/step - loss: 0.3165 - accuracy: 0.8944 - val_loss: 0.4572 - val_accuracy: 0.8339\n",
      "Epoch 190/200\n",
      "220/220 [==============================] - 6s 26ms/step - loss: 0.2697 - accuracy: 0.9048 - val_loss: 0.4593 - val_accuracy: 0.8431\n",
      "Epoch 191/200\n",
      "220/220 [==============================] - 5s 25ms/step - loss: 0.2838 - accuracy: 0.8921 - val_loss: 0.4397 - val_accuracy: 0.8466\n",
      "Epoch 192/200\n",
      "220/220 [==============================] - 5s 25ms/step - loss: 0.2869 - accuracy: 0.8878 - val_loss: 0.4470 - val_accuracy: 0.8397\n",
      "Epoch 193/200\n",
      "220/220 [==============================] - 5s 24ms/step - loss: 0.2995 - accuracy: 0.8934 - val_loss: 0.4430 - val_accuracy: 0.8466\n",
      "Epoch 194/200\n",
      "220/220 [==============================] - 5s 24ms/step - loss: 0.2749 - accuracy: 0.8962 - val_loss: 0.4555 - val_accuracy: 0.8414\n",
      "Epoch 195/200\n",
      "220/220 [==============================] - 5s 24ms/step - loss: 0.2963 - accuracy: 0.8945 - val_loss: 0.4419 - val_accuracy: 0.8437\n",
      "Epoch 196/200\n",
      "220/220 [==============================] - 5s 24ms/step - loss: 0.3023 - accuracy: 0.8912 - val_loss: 0.4372 - val_accuracy: 0.8478\n",
      "Epoch 197/200\n",
      "220/220 [==============================] - 5s 24ms/step - loss: 0.2976 - accuracy: 0.8915 - val_loss: 0.4409 - val_accuracy: 0.8426\n",
      "Epoch 198/200\n",
      "220/220 [==============================] - 5s 24ms/step - loss: 0.2779 - accuracy: 0.9001 - val_loss: 0.4471 - val_accuracy: 0.8443\n",
      "Epoch 199/200\n",
      "220/220 [==============================] - 5s 23ms/step - loss: 0.2904 - accuracy: 0.8986 - val_loss: 0.4486 - val_accuracy: 0.8466\n",
      "Epoch 200/200\n",
      "220/220 [==============================] - 5s 24ms/step - loss: 0.2847 - accuracy: 0.8980 - val_loss: 0.4256 - val_accuracy: 0.8478\n"
     ]
    }
   ],
   "source": [
    "cnnhistory=model.fit(x_traincnn, y_train, batch_size=16, epochs=200, validation_data=(x_testcnn, y_test))"
   ]
  },
  {
   "cell_type": "code",
   "execution_count": 18,
   "id": "armed-swiss",
   "metadata": {},
   "outputs": [
    {
     "data": {
      "image/png": "[encoded data removed]",
      "text/plain": [
       "<Figure size 432x288 with 1 Axes>"
      ]
     },
     "metadata": {
      "needs_background": "light"
     },
     "output_type": "display_data"
    }
   ],
   "source": [
    "plt.plot(cnnhistory.history['loss'])\n",
    "plt.plot(cnnhistory.history['val_loss'])\n",
    "plt.title('model loss')\n",
    "plt.ylabel('loss')\n",
    "plt.xlabel('epoch')\n",
    "plt.legend(['train', 'test'], loc='upper left')\n",
    "plt.show()"
   ]
  },
  {
   "cell_type": "code",
   "execution_count": 19,
   "id": "narrow-conclusion",
   "metadata": {},
   "outputs": [
    {
     "data": {
      "image/png": "[encoded data removed]",
      "text/plain": [
       "<Figure size 432x288 with 1 Axes>"
      ]
     },
     "metadata": {
      "needs_background": "light"
     },
     "output_type": "display_data"
    }
   ],
   "source": [
    "plt.plot(cnnhistory.history['accuracy'])\n",
    "plt.plot(cnnhistory.history['val_accuracy'])\n",
    "plt.title('model accuracy')\n",
    "plt.ylabel('accuracy')\n",
    "plt.xlabel('epoch')\n",
    "plt.legend(['train', 'test'], loc='upper left')\n",
    "plt.show()"
   ]
  },
  {
   "cell_type": "code",
   "execution_count": 20,
   "id": "coral-wholesale",
   "metadata": {},
   "outputs": [
    {
     "name": "stderr",
     "output_type": "stream",
     "text": [
      "C:\\Users\\acer\\AppData\\Local\\Programs\\Python\\Python36\\lib\\site-packages\\tensorflow\\python\\keras\\engine\\sequential.py:450: UserWarning: `model.predict_classes()` is deprecated and will be removed after 2021-01-01. Please use instead:* `np.argmax(model.predict(x), axis=-1)`,   if your model does multi-class classification   (e.g. if it uses a `softmax` last-layer activation).* `(model.predict(x) > 0.5).astype(\"int32\")`,   if your model does binary classification   (e.g. if it uses a `sigmoid` last-layer activation).\n",
      "  warnings.warn('`model.predict_classes()` is deprecated and '\n"
     ]
    }
   ],
   "source": [
    "predictions = model.predict_classes(x_testcnn)"
   ]
  },
  {
   "cell_type": "code",
   "execution_count": 21,
   "id": "antique-decline",
   "metadata": {},
   "outputs": [
    {
     "data": {
      "text/plain": [
       "array([3, 5, 3, ..., 1, 6, 2], dtype=int64)"
      ]
     },
     "execution_count": 21,
     "metadata": {},
     "output_type": "execute_result"
    }
   ],
   "source": [
    "predictions"
   ]
  },
  {
   "cell_type": "code",
   "execution_count": 22,
   "id": "incident-volume",
   "metadata": {},
   "outputs": [
    {
     "data": {
      "text/plain": [
       "array([3, 3, 3, ..., 1, 6, 2])"
      ]
     },
     "execution_count": 22,
     "metadata": {},
     "output_type": "execute_result"
    }
   ],
   "source": [
    "y_test"
   ]
  },
  {
   "cell_type": "code",
   "execution_count": 23,
   "id": "loving-works",
   "metadata": {},
   "outputs": [],
   "source": [
    "new_Ytest = y_test.astype(int)"
   ]
  },
  {
   "cell_type": "code",
   "execution_count": 24,
   "id": "purple-deposit",
   "metadata": {},
   "outputs": [
    {
     "data": {
      "text/plain": [
       "array([3, 3, 3, ..., 1, 6, 2])"
      ]
     },
     "execution_count": 24,
     "metadata": {},
     "output_type": "execute_result"
    }
   ],
   "source": [
    "new_Ytest"
   ]
  },
  {
   "cell_type": "code",
   "execution_count": 25,
   "id": "manual-southeast",
   "metadata": {},
   "outputs": [
    {
     "name": "stdout",
     "output_type": "stream",
     "text": [
      "              precision    recall  f1-score   support\n",
      "\n",
      "           0       0.97      0.87      0.92       192\n",
      "           1       0.66      0.88      0.75       123\n",
      "           2       0.89      0.79      0.84       264\n",
      "           3       0.88      0.78      0.83       275\n",
      "           4       0.86      0.92      0.89       252\n",
      "           5       0.82      0.86      0.84       241\n",
      "           6       0.78      0.91      0.84       197\n",
      "           7       0.92      0.81      0.86       190\n",
      "\n",
      "    accuracy                           0.85      1734\n",
      "   macro avg       0.85      0.85      0.85      1734\n",
      "weighted avg       0.86      0.85      0.85      1734\n",
      "\n"
     ]
    }
   ],
   "source": [
    "from sklearn.metrics import classification_report\n",
    "report = classification_report(new_Ytest, predictions)\n",
    "print(report)"
   ]
  },
  {
   "cell_type": "code",
   "execution_count": 26,
   "id": "adolescent-upset",
   "metadata": {},
   "outputs": [
    {
     "name": "stdout",
     "output_type": "stream",
     "text": [
      "[[167  15   0   7   0   1   2   0]\n",
      " [  2 108   4   3   0   3   3   0]\n",
      " [  0  17 209   2  20   8   5   3]\n",
      " [  3  12   7 214   4  24   8   3]\n",
      " [  0   1   3   2 232   2  10   2]\n",
      " [  0   1   3  14   7 208   6   2]\n",
      " [  0   6   4   0   2   2 180   3]\n",
      " [  0   4   6   0   5   5  17 153]]\n"
     ]
    }
   ],
   "source": [
    "from sklearn.metrics import confusion_matrix\n",
    "matrix = confusion_matrix(new_Ytest, predictions)\n",
    "print (matrix)\n",
    "\n",
    "# 0 = neutral, 1 = calm, 2 = happy, 3 = sad, 4 = angry, 5 = fearful, 6 = disgust, 7 = surprised"
   ]
  },
  {
   "cell_type": "code",
   "execution_count": 27,
   "id": "improved-projector",
   "metadata": {},
   "outputs": [
    {
     "name": "stdout",
     "output_type": "stream",
     "text": [
      "MODEL SAVED\n"
     ]
    }
   ],
   "source": [
    "model.save('testing10_model1.h5')\n",
    "print(\"MODEL SAVED\")"
   ]
  },
  {
   "cell_type": "code",
   "execution_count": 28,
   "id": "blond-reflection",
   "metadata": {},
   "outputs": [
    {
     "name": "stdout",
     "output_type": "stream",
     "text": [
      "Model: \"sequential\"\n",
      "_________________________________________________________________\n",
      "Layer (type)                 Output Shape              Param #   \n",
      "=================================================================\n",
      "conv1d (Conv1D)              (None, 40, 64)            384       \n",
      "_________________________________________________________________\n",
      "activation (Activation)      (None, 40, 64)            0         \n",
      "_________________________________________________________________\n",
      "dropout (Dropout)            (None, 40, 64)            0         \n",
      "_________________________________________________________________\n",
      "max_pooling1d (MaxPooling1D) (None, 10, 64)            0         \n",
      "_________________________________________________________________\n",
      "conv1d_1 (Conv1D)            (None, 10, 128)           41088     \n",
      "_________________________________________________________________\n",
      "activation_1 (Activation)    (None, 10, 128)           0         \n",
      "_________________________________________________________________\n",
      "dropout_1 (Dropout)          (None, 10, 128)           0         \n",
      "_________________________________________________________________\n",
      "max_pooling1d_1 (MaxPooling1 (None, 2, 128)            0         \n",
      "_________________________________________________________________\n",
      "conv1d_2 (Conv1D)            (None, 2, 256)            164096    \n",
      "_________________________________________________________________\n",
      "activation_2 (Activation)    (None, 2, 256)            0         \n",
      "_________________________________________________________________\n",
      "dropout_2 (Dropout)          (None, 2, 256)            0         \n",
      "_________________________________________________________________\n",
      "flatten (Flatten)            (None, 512)               0         \n",
      "_________________________________________________________________\n",
      "dense (Dense)                (None, 8)                 4104      \n",
      "_________________________________________________________________\n",
      "activation_3 (Activation)    (None, 8)                 0         \n",
      "=================================================================\n",
      "Total params: 209,672\n",
      "Trainable params: 209,672\n",
      "Non-trainable params: 0\n",
      "_________________________________________________________________\n"
     ]
    }
   ],
   "source": [
    "\n",
    "new_model=keras.models.load_model('testing10_model1.h5')\n",
    "new_model.summary()"
   ]
  },
  {
   "cell_type": "code",
   "execution_count": 29,
   "id": "alert-chocolate",
   "metadata": {},
   "outputs": [
    {
     "name": "stdout",
     "output_type": "stream",
     "text": [
      "55/55 [==============================] - 1s 9ms/step - loss: 0.4319 - accuracy: 0.8483\n",
      "Restored model, accuracy: 84.83%\n"
     ]
    }
   ],
   "source": [
    "loss, acc = new_model.evaluate(x_testcnn, y_test)\n",
    "print(\"Restored model, accuracy: {:5.2f}%\".format(100*acc))"
   ]
  }
 ],
 "metadata": {
  "kernelspec": {
   "display_name": "Django Shell-Plus",
   "language": "python",
   "name": "django_extensions"
  },
  "language_info": {
   "codemirror_mode": {
    "name": "ipython",
    "version": 3
   },
   "file_extension": ".py",
   "mimetype": "text/x-python",
   "name": "python",
   "nbconvert_exporter": "python",
   "pygments_lexer": "ipython3",
   "version": "3.6.8"
  }
 },
 "nbformat": 4,
 "nbformat_minor": 5
}
